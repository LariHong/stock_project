{
 "cells": [
  {
   "cell_type": "code",
   "execution_count": 4,
   "metadata": {},
   "outputs": [
    {
     "name": "stderr",
     "output_type": "stream",
     "text": [
      "[*********************100%%**********************]  1 of 1 completed"
     ]
    },
    {
     "name": "stdout",
     "output_type": "stream",
     "text": [
      "        Date    Open    High     Low   Close  Adj Close     Volume\n",
      "0 2023-01-03  14.851  14.996  14.096  14.315  14.306805  401277000\n",
      "1 2023-01-04  14.567  14.853  14.241  14.749  14.740556  431324000\n",
      "2 2023-01-05  14.491  14.564  14.148  14.265  14.256833  389168000\n",
      "3 2023-01-06  14.474  15.010  14.034  14.859  14.850493  405044000\n",
      "4 2023-01-09  15.284  16.056  15.141  15.628  15.619052  504231000\n"
     ]
    },
    {
     "name": "stderr",
     "output_type": "stream",
     "text": [
      "\n"
     ]
    }
   ],
   "source": [
    "import yfinance as yf\n",
    "import pandas as pd\n",
    "\n",
    "def Get_N_Month_Data(stock_id:str, start_year:str, start_month:str, end_year:str, end_month:str) -> pd.DataFrame:\n",
    "    # 設定股票代碼（對於輝達是 'NVDA'）\n",
    "    ticker = stock_id  # 對於輝達的情況，stock_id 應該是 'NVDA'\n",
    "    \n",
    "    # 定義開始和結束日期\n",
    "    start_date = f'{start_year}-{start_month}-01'\n",
    "    end_date = pd.to_datetime(f'{end_year}-{end_month}-01') + pd.offsets.MonthEnd(0)\n",
    "    end_date = end_date.strftime('%Y-%m-%d')\n",
    "    \n",
    "    # 下載股票數據\n",
    "    data = yf.download(ticker, start=start_date, end=end_date)\n",
    "    \n",
    "    # 重設索引\n",
    "    data = data.reset_index()\n",
    "    \n",
    "    return data\n",
    "\n",
    "# 使用範例\n",
    "data = Get_N_Month_Data('NVDA', '2023', '01', '2024', '06')\n",
    "print(data.head())\n"
   ]
  }
 ],
 "metadata": {
  "kernelspec": {
   "display_name": "vene1",
   "language": "python",
   "name": "python3"
  },
  "language_info": {
   "codemirror_mode": {
    "name": "ipython",
    "version": 3
   },
   "file_extension": ".py",
   "mimetype": "text/x-python",
   "name": "python",
   "nbconvert_exporter": "python",
   "pygments_lexer": "ipython3",
   "version": "3.12.3"
  }
 },
 "nbformat": 4,
 "nbformat_minor": 2
}
